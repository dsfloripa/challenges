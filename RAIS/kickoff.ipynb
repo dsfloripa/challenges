{
 "cells": [
  {
   "cell_type": "markdown",
   "metadata": {},
   "source": [
    "# Kickoff - CHALLENGE - RAIS\n",
    "\n",
    "**E**xploratory **D**ata **A**nalysis on RAIS Database - Florianópolis, SC - Brasil\n",
    "\n",
    "**Authors:**\n",
    "- Luis Felipe Pelison\n",
    "- Fernando Battisti\n",
    "- Ígor Yamamoto\n",
    "\n",
    "## Objective\n",
    "\n",
    "How socialeconomic characteristics impacts how much you earn?"
   ]
  },
  {
   "cell_type": "markdown",
   "metadata": {},
   "source": [
    "# Imports\n",
    "Here is where you declare the external dependencies required for running the notebook"
   ]
  },
  {
   "cell_type": "code",
   "execution_count": 2,
   "metadata": {},
   "outputs": [],
   "source": [
    "import pandas as pd\n",
    "import numpy as np\n",
    "# here you can import your libraries\n",
    "\n",
    "pd.set_option('max_rows', 200)"
   ]
  },
  {
   "cell_type": "markdown",
   "metadata": {},
   "source": [
    "# Open Data\n",
    "\n",
    "Here is where your data is loaded from different file formats (e.g.: .csv, .json, .parquet, .xlsx) into pandas data frames"
   ]
  },
  {
   "cell_type": "code",
   "execution_count": 3,
   "metadata": {},
   "outputs": [
    {
     "name": "stdout",
     "output_type": "stream",
     "text": [
      "(432486, 16)\n"
     ]
    },
    {
     "data": {
      "text/html": [
       "<div>\n",
       "<style scoped>\n",
       "    .dataframe tbody tr th:only-of-type {\n",
       "        vertical-align: middle;\n",
       "    }\n",
       "\n",
       "    .dataframe tbody tr th {\n",
       "        vertical-align: top;\n",
       "    }\n",
       "\n",
       "    .dataframe thead th {\n",
       "        text-align: right;\n",
       "    }\n",
       "</style>\n",
       "<table border=\"1\" class=\"dataframe\">\n",
       "  <thead>\n",
       "    <tr style=\"text-align: right;\">\n",
       "      <th></th>\n",
       "      <th>CNAE 2.0 Subclasse</th>\n",
       "      <th>Escolaridade após 2005</th>\n",
       "      <th>Idade</th>\n",
       "      <th>Mês Admissão</th>\n",
       "      <th>Mês Desligamento</th>\n",
       "      <th>Motivo Desligamento</th>\n",
       "      <th>Município</th>\n",
       "      <th>Qtd Hora Contr</th>\n",
       "      <th>Raça Cor</th>\n",
       "      <th>Sexo Trabalhador</th>\n",
       "      <th>Tamanho Estabelecimento</th>\n",
       "      <th>Tempo Emprego</th>\n",
       "      <th>Tipo Defic</th>\n",
       "      <th>Vl Remun Média Nom</th>\n",
       "      <th>UF</th>\n",
       "      <th>CBO 2002</th>\n",
       "    </tr>\n",
       "  </thead>\n",
       "  <tbody>\n",
       "    <tr>\n",
       "      <th>4470590</th>\n",
       "      <td>8112500</td>\n",
       "      <td>1</td>\n",
       "      <td>23</td>\n",
       "      <td>0</td>\n",
       "      <td>3</td>\n",
       "      <td>12</td>\n",
       "      <td>420540</td>\n",
       "      <td>44</td>\n",
       "      <td>9</td>\n",
       "      <td>1</td>\n",
       "      <td>4</td>\n",
       "      <td>2,9</td>\n",
       "      <td>0</td>\n",
       "      <td>1.484,79</td>\n",
       "      <td>42</td>\n",
       "      <td>514320</td>\n",
       "    </tr>\n",
       "    <tr>\n",
       "      <th>4470599</th>\n",
       "      <td>7112000</td>\n",
       "      <td>1</td>\n",
       "      <td>33</td>\n",
       "      <td>3</td>\n",
       "      <td>4</td>\n",
       "      <td>11</td>\n",
       "      <td>420540</td>\n",
       "      <td>44</td>\n",
       "      <td>9</td>\n",
       "      <td>1</td>\n",
       "      <td>3</td>\n",
       "      <td>1,9</td>\n",
       "      <td>0</td>\n",
       "      <td>1.290,00</td>\n",
       "      <td>42</td>\n",
       "      <td>717020</td>\n",
       "    </tr>\n",
       "  </tbody>\n",
       "</table>\n",
       "</div>"
      ],
      "text/plain": [
       "         CNAE 2.0 Subclasse  Escolaridade após 2005  Idade  Mês Admissão  \\\n",
       "4470590             8112500                       1     23             0   \n",
       "4470599             7112000                       1     33             3   \n",
       "\n",
       "         Mês Desligamento  Motivo Desligamento  Município  Qtd Hora Contr  \\\n",
       "4470590                 3                   12     420540              44   \n",
       "4470599                 4                   11     420540              44   \n",
       "\n",
       "         Raça Cor  Sexo Trabalhador  Tamanho Estabelecimento Tempo Emprego  \\\n",
       "4470590         9                 1                        4           2,9   \n",
       "4470599         9                 1                        3           1,9   \n",
       "\n",
       "         Tipo Defic  Vl Remun Média Nom  UF CBO 2002  \n",
       "4470590           0            1.484,79  42   514320  \n",
       "4470599           0            1.290,00  42   717020  "
      ]
     },
     "execution_count": 3,
     "metadata": {},
     "output_type": "execute_result"
    }
   ],
   "source": [
    "df = pd.read_parquet('data/rais_floripa_2018.parquet')\n",
    "print(df.shape)\n",
    "df.head(2)"
   ]
  },
  {
   "cell_type": "markdown",
   "metadata": {},
   "source": [
    "# Pre Processing\n",
    "The real world is a mess. We need to do some manipulations in order to clean the data."
   ]
  },
  {
   "cell_type": "markdown",
   "metadata": {},
   "source": [
    "## Converting to the right types\n",
    "\n",
    "In order to be eaiser or possible to operate, we need to assign the most appropriate type for each column  "
   ]
  },
  {
   "cell_type": "code",
   "execution_count": 5,
   "metadata": {},
   "outputs": [],
   "source": [
    "CAT_FEATURES = ['CNAE 2.0 Subclasse', 'Escolaridade após 2005', 'Mês Admissão', 'Mês Desligamento', 'Motivo Desligamento', 'Município', 'Raça Cor', 'Sexo Trabalhador', 'Tamanho Estabelecimento', 'Tipo Defic', 'UF', 'CBO 2002']\n",
    "\n",
    "for cat_feat in CAT_FEATURES:\n",
    "    df[cat_feat] = df[cat_feat].astype('str')\n",
    "\n",
    "df['Tempo Emprego'] = df['Tempo Emprego'].str.replace(',','.').astype('float')\n",
    "\n",
    "df['Vl Remun Média Nom'] = df['Vl Remun Média Nom'].str.replace('.', '').str.replace(',','.').astype('float')"
   ]
  },
  {
   "cell_type": "markdown",
   "metadata": {},
   "source": [
    "## Mapping categories\n",
    "\n",
    "Sometimes, real categories are not so understanble, then we map to more readable ones"
   ]
  },
  {
   "cell_type": "code",
   "execution_count": 6,
   "metadata": {},
   "outputs": [
    {
     "data": {
      "text/plain": [
       "10    174502\n",
       "5      40351\n",
       "4      36555\n",
       "7      34376\n",
       "3      32859\n",
       "2      31635\n",
       "6      25907\n",
       "9      25797\n",
       "8      22098\n",
       "1       8406\n",
       "Name: Tamanho Estabelecimento, dtype: int64"
      ]
     },
     "execution_count": 6,
     "metadata": {},
     "output_type": "execute_result"
    }
   ],
   "source": [
    "df['Tamanho Estabelecimento'].value_counts()"
   ]
  },
  {
   "cell_type": "code",
   "execution_count": 7,
   "metadata": {},
   "outputs": [],
   "source": [
    "df['Tamanho Estabelecimento'] = (\n",
    "    df['Tamanho Estabelecimento']\n",
    "    .map(\n",
    "        {\n",
    "            '1': 'ZERO',\n",
    "            '2': 'ATE_4',\n",
    "            '3': 'DE_5_A_9',\n",
    "            '4': 'DE_10_A_19',\n",
    "            '5': 'DE_20_A_49',\n",
    "            '6': 'DE_50_A_99',\n",
    "            '7': 'DE_100_A_249',\n",
    "            '8': 'DE_250_A_499',\n",
    "            '9': 'DE_500_A_999',\n",
    "            '10': '1000_OU_MAIS',\n",
    "            '-1': 'IGNORADO',\n",
    "        }\n",
    "    )\n",
    ")"
   ]
  },
  {
   "cell_type": "code",
   "execution_count": 8,
   "metadata": {},
   "outputs": [
    {
     "data": {
      "text/plain": [
       "1000_OU_MAIS    174502\n",
       "DE_20_A_49       40351\n",
       "DE_10_A_19       36555\n",
       "DE_100_A_249     34376\n",
       "DE_5_A_9         32859\n",
       "ATE_4            31635\n",
       "DE_50_A_99       25907\n",
       "DE_500_A_999     25797\n",
       "DE_250_A_499     22098\n",
       "ZERO              8406\n",
       "Name: Tamanho Estabelecimento, dtype: int64"
      ]
     },
     "execution_count": 8,
     "metadata": {},
     "output_type": "execute_result"
    }
   ],
   "source": [
    "df['Tamanho Estabelecimento'].value_counts()"
   ]
  },
  {
   "cell_type": "markdown",
   "metadata": {},
   "source": [
    "## Removing wrong categories\n",
    "\n",
    "Sometimes there are wrong or meaningless categories. In those cases we need to treat this."
   ]
  },
  {
   "cell_type": "code",
   "execution_count": 9,
   "metadata": {},
   "outputs": [],
   "source": [
    "df['CBO 2002'] = df['CBO 2002'].apply(lambda x: 'Unknown' if x == '0000-1' else x)"
   ]
  },
  {
   "cell_type": "markdown",
   "metadata": {},
   "source": [
    "# Analysis\n",
    "\n",
    "Now we can do our exploratory analysis. Be criative!"
   ]
  },
  {
   "cell_type": "code",
   "execution_count": 10,
   "metadata": {},
   "outputs": [
    {
     "data": {
      "text/plain": [
       "420540    432486\n",
       "Name: Município, dtype: int64"
      ]
     },
     "execution_count": 10,
     "metadata": {},
     "output_type": "execute_result"
    }
   ],
   "source": [
    "# All from Florianopolis\n",
    "\n",
    "df['Município'].value_counts()"
   ]
  },
  {
   "cell_type": "markdown",
   "metadata": {},
   "source": [
    "## Challenge 0. List the most popular occupations (CBO)"
   ]
  },
  {
   "cell_type": "code",
   "execution_count": 12,
   "metadata": {},
   "outputs": [],
   "source": [
    "# Code here"
   ]
  },
  {
   "cell_type": "code",
   "execution_count": null,
   "metadata": {},
   "outputs": [],
   "source": []
  },
  {
   "cell_type": "markdown",
   "metadata": {},
   "source": [
    "# Main Challenge\n",
    "\n",
    "Here we will develop the answer for the main challenge described at the beginning."
   ]
  },
  {
   "cell_type": "code",
   "execution_count": 13,
   "metadata": {},
   "outputs": [],
   "source": [
    "# Code here"
   ]
  },
  {
   "cell_type": "code",
   "execution_count": null,
   "metadata": {},
   "outputs": [],
   "source": []
  },
  {
   "cell_type": "markdown",
   "metadata": {},
   "source": [
    "# Future Work\n",
    "\n",
    "If your time has ended and you have another insights, you can list them here for future work\n",
    "\n",
    "- Insight 1\n",
    "- Insight 2"
   ]
  }
 ],
 "metadata": {
  "kernelspec": {
   "display_name": "Python 3",
   "language": "python",
   "name": "python3"
  },
  "language_info": {
   "codemirror_mode": {
    "name": "ipython",
    "version": 3
   },
   "file_extension": ".py",
   "mimetype": "text/x-python",
   "name": "python",
   "nbconvert_exporter": "python",
   "pygments_lexer": "ipython3",
   "version": "3.6.8"
  },
  "toc-autonumbering": true,
  "toc-showcode": true,
  "toc-showmarkdowntxt": true
 },
 "nbformat": 4,
 "nbformat_minor": 4
}
