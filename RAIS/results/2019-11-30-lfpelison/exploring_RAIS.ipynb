{
 "cells": [
  {
   "cell_type": "markdown",
   "metadata": {},
   "source": [
    "# EDA - Rais\n",
    "\n",
    "**E**xploratory **D**ata **A**nalysis on RAIS Database - Florianópolis, SC - Brasil\n",
    "\n",
    "**Authors:**\n",
    "- Luis Felipe Pelison\n",
    "- Fernando Battisti\n",
    "- Ígor Yamamoto"
   ]
  },
  {
   "cell_type": "markdown",
   "metadata": {},
   "source": [
    "Dictionary: \n",
    "ftp://ftp.mtps.gov.br/pdet/microdados/RAIS/Layouts/v%C3%ADnculos/RAIS_vinculos_layout2018.xls"
   ]
  },
  {
   "cell_type": "markdown",
   "metadata": {},
   "source": [
    "# Imports"
   ]
  },
  {
   "cell_type": "code",
   "execution_count": 54,
   "metadata": {},
   "outputs": [],
   "source": [
    "import pandas as pd\n",
    "import numpy as np\n",
    "\n",
    "pd.set_option('max_rows', 200)"
   ]
  },
  {
   "cell_type": "markdown",
   "metadata": {},
   "source": [
    "# Open Data"
   ]
  },
  {
   "cell_type": "code",
   "execution_count": 7,
   "metadata": {},
   "outputs": [
    {
     "name": "stdout",
     "output_type": "stream",
     "text": [
      "(432486, 16)\n"
     ]
    },
    {
     "data": {
      "text/html": [
       "<div>\n",
       "<style scoped>\n",
       "    .dataframe tbody tr th:only-of-type {\n",
       "        vertical-align: middle;\n",
       "    }\n",
       "\n",
       "    .dataframe tbody tr th {\n",
       "        vertical-align: top;\n",
       "    }\n",
       "\n",
       "    .dataframe thead th {\n",
       "        text-align: right;\n",
       "    }\n",
       "</style>\n",
       "<table border=\"1\" class=\"dataframe\">\n",
       "  <thead>\n",
       "    <tr style=\"text-align: right;\">\n",
       "      <th></th>\n",
       "      <th>CNAE 2.0 Subclasse</th>\n",
       "      <th>Escolaridade após 2005</th>\n",
       "      <th>Idade</th>\n",
       "      <th>Mês Admissão</th>\n",
       "      <th>Mês Desligamento</th>\n",
       "      <th>Motivo Desligamento</th>\n",
       "      <th>Município</th>\n",
       "      <th>Qtd Hora Contr</th>\n",
       "      <th>Raça Cor</th>\n",
       "      <th>Sexo Trabalhador</th>\n",
       "      <th>Tamanho Estabelecimento</th>\n",
       "      <th>Tempo Emprego</th>\n",
       "      <th>Tipo Defic</th>\n",
       "      <th>Vl Remun Média Nom</th>\n",
       "      <th>UF</th>\n",
       "      <th>CBO 2002</th>\n",
       "    </tr>\n",
       "  </thead>\n",
       "  <tbody>\n",
       "    <tr>\n",
       "      <th>4470590</th>\n",
       "      <td>8112500</td>\n",
       "      <td>1</td>\n",
       "      <td>23</td>\n",
       "      <td>0</td>\n",
       "      <td>3</td>\n",
       "      <td>12</td>\n",
       "      <td>420540</td>\n",
       "      <td>44</td>\n",
       "      <td>9</td>\n",
       "      <td>1</td>\n",
       "      <td>4</td>\n",
       "      <td>2,9</td>\n",
       "      <td>0</td>\n",
       "      <td>1.484,79</td>\n",
       "      <td>42</td>\n",
       "      <td>514320</td>\n",
       "    </tr>\n",
       "    <tr>\n",
       "      <th>4470599</th>\n",
       "      <td>7112000</td>\n",
       "      <td>1</td>\n",
       "      <td>33</td>\n",
       "      <td>3</td>\n",
       "      <td>4</td>\n",
       "      <td>11</td>\n",
       "      <td>420540</td>\n",
       "      <td>44</td>\n",
       "      <td>9</td>\n",
       "      <td>1</td>\n",
       "      <td>3</td>\n",
       "      <td>1,9</td>\n",
       "      <td>0</td>\n",
       "      <td>1.290,00</td>\n",
       "      <td>42</td>\n",
       "      <td>717020</td>\n",
       "    </tr>\n",
       "  </tbody>\n",
       "</table>\n",
       "</div>"
      ],
      "text/plain": [
       "         CNAE 2.0 Subclasse  Escolaridade após 2005  Idade  Mês Admissão  \\\n",
       "4470590             8112500                       1     23             0   \n",
       "4470599             7112000                       1     33             3   \n",
       "\n",
       "         Mês Desligamento  Motivo Desligamento  Município  Qtd Hora Contr  \\\n",
       "4470590                 3                   12     420540              44   \n",
       "4470599                 4                   11     420540              44   \n",
       "\n",
       "         Raça Cor  Sexo Trabalhador  Tamanho Estabelecimento Tempo Emprego  \\\n",
       "4470590         9                 1                        4           2,9   \n",
       "4470599         9                 1                        3           1,9   \n",
       "\n",
       "         Tipo Defic  Vl Remun Média Nom  UF CBO 2002  \n",
       "4470590           0            1.484,79  42   514320  \n",
       "4470599           0            1.290,00  42   717020  "
      ]
     },
     "execution_count": 7,
     "metadata": {},
     "output_type": "execute_result"
    }
   ],
   "source": [
    "df = pd.read_parquet('dados/rais_floripa_2018.parquet')\n",
    "print(df.shape)\n",
    "df.head(2)"
   ]
  },
  {
   "cell_type": "markdown",
   "metadata": {},
   "source": [
    "# Pre Processing"
   ]
  },
  {
   "cell_type": "code",
   "execution_count": 8,
   "metadata": {},
   "outputs": [],
   "source": [
    "CAT_FEATURES = ['CNAE 2.0 Subclasse', 'Escolaridade após 2005', 'Mês Admissão', 'Mês Desligamento', 'Motivo Desligamento', 'Município', 'Raça Cor', 'Sexo Trabalhador', 'Tamanho Estabelecimento', 'Tipo Defic', 'UF', 'CBO 2002']\n",
    "\n",
    "for cat_feat in CAT_FEATURES:\n",
    "    df[cat_feat] = df[cat_feat].astype('str')\n",
    "\n",
    "df['Tempo Emprego'] = df['Tempo Emprego'].str.replace(',','.').astype('float')\n",
    "\n",
    "df['Vl Remun Média Nom'] = df['Vl Remun Média Nom'].str.replace('.', '').str.replace(',','.').astype('float')"
   ]
  },
  {
   "cell_type": "code",
   "execution_count": null,
   "metadata": {},
   "outputs": [],
   "source": []
  },
  {
   "cell_type": "markdown",
   "metadata": {},
   "source": [
    "## Tamanho Estabelecimento"
   ]
  },
  {
   "cell_type": "code",
   "execution_count": 9,
   "metadata": {},
   "outputs": [
    {
     "data": {
      "text/plain": [
       "10    174502\n",
       "5      40351\n",
       "4      36555\n",
       "7      34376\n",
       "3      32859\n",
       "2      31635\n",
       "6      25907\n",
       "9      25797\n",
       "8      22098\n",
       "1       8406\n",
       "Name: Tamanho Estabelecimento, dtype: int64"
      ]
     },
     "execution_count": 9,
     "metadata": {},
     "output_type": "execute_result"
    }
   ],
   "source": [
    "df['Tamanho Estabelecimento'].value_counts()"
   ]
  },
  {
   "cell_type": "code",
   "execution_count": 17,
   "metadata": {},
   "outputs": [],
   "source": [
    "df['Tamanho Estabelecimento'] = (\n",
    "    df['Tamanho Estabelecimento']\n",
    "    .map(\n",
    "        {\n",
    "            '1': 'ZERO',\n",
    "            '2': 'ATE_4',\n",
    "            '3': 'DE_5_A_9',\n",
    "            '4': 'DE_10_A_19',\n",
    "            '5': 'DE_20_A_49',\n",
    "            '6': 'DE_50_A_99',\n",
    "            '7': 'DE_100_A_249',\n",
    "            '8': 'DE_250_A_499',\n",
    "            '9': 'DE_500_A_999',\n",
    "            '10': '1000_OU_MAIS',\n",
    "            '-1': 'IGNORADO',\n",
    "        }\n",
    "    )\n",
    ")"
   ]
  },
  {
   "cell_type": "code",
   "execution_count": 19,
   "metadata": {},
   "outputs": [
    {
     "data": {
      "text/plain": [
       "1000_OU_MAIS    174502\n",
       "DE_20_A_49       40351\n",
       "DE_10_A_19       36555\n",
       "DE_100_A_249     34376\n",
       "DE_5_A_9         32859\n",
       "ATE_4            31635\n",
       "DE_50_A_99       25907\n",
       "DE_500_A_999     25797\n",
       "DE_250_A_499     22098\n",
       "ZERO              8406\n",
       "Name: Tamanho Estabelecimento, dtype: int64"
      ]
     },
     "execution_count": 19,
     "metadata": {},
     "output_type": "execute_result"
    }
   ],
   "source": [
    "df['Tamanho Estabelecimento'].value_counts()"
   ]
  },
  {
   "cell_type": "markdown",
   "metadata": {},
   "source": [
    "## CBO"
   ]
  },
  {
   "cell_type": "code",
   "execution_count": 95,
   "metadata": {},
   "outputs": [],
   "source": [
    "df['CBO 2002'] = df['CBO 2002'].apply(lambda x: 'Unknown' if x == '0000-1' else x)"
   ]
  },
  {
   "cell_type": "markdown",
   "metadata": {},
   "source": [
    "# Analysis"
   ]
  },
  {
   "cell_type": "code",
   "execution_count": 20,
   "metadata": {},
   "outputs": [
    {
     "data": {
      "text/plain": [
       "420540    432486\n",
       "Name: Município, dtype: int64"
      ]
     },
     "execution_count": 20,
     "metadata": {},
     "output_type": "execute_result"
    }
   ],
   "source": [
    "# All from Florianopolis\n",
    "\n",
    "df['Município'].value_counts()"
   ]
  },
  {
   "cell_type": "code",
   "execution_count": 97,
   "metadata": {},
   "outputs": [
    {
     "name": "stdout",
     "output_type": "stream",
     "text": [
      "     ***Type: object\n",
      "     Top 5 of Column\n"
     ]
    },
    {
     "data": {
      "text/plain": [
       "8411600    23.354513\n",
       "8424800     5.244332\n",
       "7830200     3.971689\n",
       "5611201     3.632719\n",
       "8423000     2.753615\n",
       "Name: CNAE 2.0 Subclasse, dtype: float64"
      ]
     },
     "metadata": {},
     "output_type": "display_data"
    },
    {
     "name": "stdout",
     "output_type": "stream",
     "text": [
      "-----\n",
      "\n",
      "\n",
      "     ***Type: object\n",
      "     Top 5 of Column\n"
     ]
    },
    {
     "data": {
      "text/plain": [
       "9    43.819916\n",
       "7    36.274238\n",
       "5     5.021434\n",
       "8     4.925940\n",
       "6     3.917121\n",
       "Name: Escolaridade após 2005, dtype: float64"
      ]
     },
     "metadata": {},
     "output_type": "display_data"
    },
    {
     "name": "stdout",
     "output_type": "stream",
     "text": [
      "-----\n",
      "\n",
      "\n",
      "     ***Type: int64\n",
      "     Describe Column: Idade\n"
     ]
    },
    {
     "data": {
      "text/plain": [
       "count    432486.000000\n",
       "mean         37.177608\n",
       "std          11.599748\n",
       "min          14.000000\n",
       "25%          28.000000\n",
       "50%          36.000000\n",
       "75%          45.000000\n",
       "max          98.000000\n",
       "Name: Idade, dtype: float64"
      ]
     },
     "metadata": {},
     "output_type": "display_data"
    },
    {
     "name": "stdout",
     "output_type": "stream",
     "text": [
      "-----\n",
      "\n",
      "\n",
      "     ***Type: object\n",
      "     Top 5 of Column\n"
     ]
    },
    {
     "data": {
      "text/plain": [
       "0    63.165282\n",
       "2     6.826117\n",
       "3     3.155709\n",
       "8     2.992467\n",
       "7     2.853503\n",
       "Name: Mês Admissão, dtype: float64"
      ]
     },
     "metadata": {},
     "output_type": "display_data"
    },
    {
     "name": "stdout",
     "output_type": "stream",
     "text": [
      "-----\n",
      "\n",
      "\n",
      "     ***Type: object\n",
      "     Top 5 of Column\n"
     ]
    },
    {
     "data": {
      "text/plain": [
       "0     64.585906\n",
       "12     7.907539\n",
       "7      2.982524\n",
       "5      2.860208\n",
       "3      2.699741\n",
       "Name: Mês Desligamento, dtype: float64"
      ]
     },
     "metadata": {},
     "output_type": "display_data"
    },
    {
     "name": "stdout",
     "output_type": "stream",
     "text": [
      "-----\n",
      "\n",
      "\n",
      "     ***Type: object\n",
      "     Top 5 of Column\n"
     ]
    },
    {
     "data": {
      "text/plain": [
       "0     63.858946\n",
       "12    14.586831\n",
       "11    10.997350\n",
       "21     6.338240\n",
       "31     2.482855\n",
       "Name: Motivo Desligamento, dtype: float64"
      ]
     },
     "metadata": {},
     "output_type": "display_data"
    },
    {
     "name": "stdout",
     "output_type": "stream",
     "text": [
      "-----\n",
      "\n",
      "\n",
      "     ***Type: object\n",
      "     Top 5 of Column\n"
     ]
    },
    {
     "data": {
      "text/plain": [
       "420540    100.0\n",
       "Name: Município, dtype: float64"
      ]
     },
     "metadata": {},
     "output_type": "display_data"
    },
    {
     "name": "stdout",
     "output_type": "stream",
     "text": [
      "-----\n",
      "\n",
      "\n",
      "     ***Type: int64\n",
      "     Describe Column: Qtd Hora Contr\n"
     ]
    },
    {
     "data": {
      "text/plain": [
       "count    432486.000000\n",
       "mean         37.326066\n",
       "std           9.547143\n",
       "min           1.000000\n",
       "25%          36.000000\n",
       "50%          40.000000\n",
       "75%          44.000000\n",
       "max          44.000000\n",
       "Name: Qtd Hora Contr, dtype: float64"
      ]
     },
     "metadata": {},
     "output_type": "display_data"
    },
    {
     "name": "stdout",
     "output_type": "stream",
     "text": [
      "-----\n",
      "\n",
      "\n",
      "     ***Type: object\n",
      "     Top 5 of Column\n"
     ]
    },
    {
     "data": {
      "text/plain": [
       "2     41.011963\n",
       "99    32.900025\n",
       "9     15.757504\n",
       "8      6.953751\n",
       "4      2.894198\n",
       "Name: Raça Cor, dtype: float64"
      ]
     },
     "metadata": {},
     "output_type": "display_data"
    },
    {
     "name": "stdout",
     "output_type": "stream",
     "text": [
      "-----\n",
      "\n",
      "\n",
      "     ***Type: object\n",
      "     Top 5 of Column\n"
     ]
    },
    {
     "data": {
      "text/plain": [
       "2    51.823643\n",
       "1    48.176357\n",
       "Name: Sexo Trabalhador, dtype: float64"
      ]
     },
     "metadata": {},
     "output_type": "display_data"
    },
    {
     "name": "stdout",
     "output_type": "stream",
     "text": [
      "-----\n",
      "\n",
      "\n",
      "     ***Type: object\n",
      "     Top 5 of Column\n"
     ]
    },
    {
     "data": {
      "text/plain": [
       "1000_OU_MAIS    40.348589\n",
       "DE_20_A_49       9.330013\n",
       "DE_10_A_19       8.452297\n",
       "DE_100_A_249     7.948465\n",
       "DE_5_A_9         7.597703\n",
       "Name: Tamanho Estabelecimento, dtype: float64"
      ]
     },
     "metadata": {},
     "output_type": "display_data"
    },
    {
     "name": "stdout",
     "output_type": "stream",
     "text": [
      "-----\n",
      "\n",
      "\n",
      "     ***Type: float64\n",
      "     Describe Column: Tempo Emprego\n"
     ]
    },
    {
     "data": {
      "text/plain": [
       "count    432486.000000\n",
       "mean         61.005008\n",
       "std          92.560187\n",
       "min           0.000000\n",
       "25%           5.400000\n",
       "50%          18.700000\n",
       "75%          71.700000\n",
       "max         590.500000\n",
       "Name: Tempo Emprego, dtype: float64"
      ]
     },
     "metadata": {},
     "output_type": "display_data"
    },
    {
     "name": "stdout",
     "output_type": "stream",
     "text": [
      "-----\n",
      "\n",
      "\n",
      "     ***Type: object\n",
      "     Top 5 of Column\n"
     ]
    },
    {
     "data": {
      "text/plain": [
       "0    99.121359\n",
       "1     0.362093\n",
       "2     0.169948\n",
       "3     0.140583\n",
       "6     0.128790\n",
       "Name: Tipo Defic, dtype: float64"
      ]
     },
     "metadata": {},
     "output_type": "display_data"
    },
    {
     "name": "stdout",
     "output_type": "stream",
     "text": [
      "-----\n",
      "\n",
      "\n",
      "     ***Type: float64\n",
      "     Describe Column: Vl Remun Média Nom\n"
     ]
    },
    {
     "data": {
      "text/plain": [
       "count    432486.000000\n",
       "mean       3806.933661\n",
       "std        4616.220066\n",
       "min           0.000000\n",
       "25%        1450.122500\n",
       "50%        2104.875000\n",
       "75%        4400.800000\n",
       "max      137867.340000\n",
       "Name: Vl Remun Média Nom, dtype: float64"
      ]
     },
     "metadata": {},
     "output_type": "display_data"
    },
    {
     "name": "stdout",
     "output_type": "stream",
     "text": [
      "-----\n",
      "\n",
      "\n",
      "     ***Type: object\n",
      "     Top 5 of Column\n"
     ]
    },
    {
     "data": {
      "text/plain": [
       "42    100.0\n",
       "Name: UF, dtype: float64"
      ]
     },
     "metadata": {},
     "output_type": "display_data"
    },
    {
     "name": "stdout",
     "output_type": "stream",
     "text": [
      "-----\n",
      "\n",
      "\n",
      "     ***Type: object\n",
      "     Top 5 of Column\n"
     ]
    },
    {
     "data": {
      "text/plain": [
       "331205    12.904926\n",
       "411010     6.352576\n",
       "514320     4.263028\n",
       "521110     4.057010\n",
       "411005     3.034549\n",
       "Name: CBO 2002, dtype: float64"
      ]
     },
     "metadata": {},
     "output_type": "display_data"
    },
    {
     "name": "stdout",
     "output_type": "stream",
     "text": [
      "-----\n",
      "\n",
      "\n"
     ]
    }
   ],
   "source": [
    "# List Categories\n",
    "\n",
    "for col in df.columns:\n",
    "    col_type = df[col].dtype\n",
    "    print(f'     ***Type: {col_type}')\n",
    "    if ((col_type == 'O') or (hasattr(df[col], 'cat'))):\n",
    "        print(f'     Top 5 of Column') #: {col}')\n",
    "        display(df[col].value_counts(normalize=True)[:5]*100)\n",
    "        print('-----')\n",
    "        print('\\n')\n",
    "    else:\n",
    "        print(f'     Describe Column: {col}')\n",
    "        display(df[col].describe())\n",
    "        print('-----')\n",
    "        print('\\n')"
   ]
  },
  {
   "cell_type": "code",
   "execution_count": 98,
   "metadata": {},
   "outputs": [
    {
     "data": {
      "text/plain": [
       "513405    109\n",
       "421125     88\n",
       "422105     72\n",
       "234520     57\n",
       "Name: CBO 2002, dtype: int64"
      ]
     },
     "execution_count": 98,
     "metadata": {},
     "output_type": "execute_result"
    }
   ],
   "source": [
    "df[df['Qtd Hora Contr'] == 1]['CBO 2002'].value_counts()[:4]"
   ]
  },
  {
   "cell_type": "markdown",
   "metadata": {},
   "source": [
    "**513405**: Garçom\n",
    "\n",
    "**421125**: Operador de Caixa\n",
    "\n",
    "**422105**: Recepcionista Atendente\n",
    "\n",
    "**234520**: Prof. Ensino Superior"
   ]
  },
  {
   "cell_type": "code",
   "execution_count": 99,
   "metadata": {},
   "outputs": [
    {
     "data": {
      "text/plain": [
       "5611204    132\n",
       "5611201     91\n",
       "4711302     90\n",
       "5223100     62\n",
       "Name: CNAE 2.0 Subclasse, dtype: int64"
      ]
     },
     "execution_count": 99,
     "metadata": {},
     "output_type": "execute_result"
    }
   ],
   "source": [
    "df[df['Qtd Hora Contr'] == 1]['CNAE 2.0 Subclasse'].value_counts()[:4]"
   ]
  },
  {
   "cell_type": "markdown",
   "metadata": {},
   "source": [
    "**5611204**: Bares e outros estabelecimentos especializados em servir bebidas, sem entretenimento\n",
    "\n",
    "**5611201**: Restaurantes e similares\n",
    "\n",
    "**4711302**: Comércio varejista de mercadorias em geral, com predominância de produtos alimentícios - supermercados\n",
    "\n",
    "**5223100**: Estacionamento de veículos"
   ]
  },
  {
   "cell_type": "code",
   "execution_count": null,
   "metadata": {},
   "outputs": [],
   "source": []
  },
  {
   "cell_type": "code",
   "execution_count": null,
   "metadata": {},
   "outputs": [],
   "source": []
  },
  {
   "cell_type": "markdown",
   "metadata": {},
   "source": [
    "# Challenge"
   ]
  },
  {
   "cell_type": "code",
   "execution_count": 31,
   "metadata": {},
   "outputs": [
    {
     "data": {
      "text/html": [
       "<div>\n",
       "<style scoped>\n",
       "    .dataframe tbody tr th:only-of-type {\n",
       "        vertical-align: middle;\n",
       "    }\n",
       "\n",
       "    .dataframe tbody tr th {\n",
       "        vertical-align: top;\n",
       "    }\n",
       "\n",
       "    .dataframe thead th {\n",
       "        text-align: right;\n",
       "    }\n",
       "</style>\n",
       "<table border=\"1\" class=\"dataframe\">\n",
       "  <thead>\n",
       "    <tr style=\"text-align: right;\">\n",
       "      <th></th>\n",
       "      <th>CNAE 2.0 Subclasse</th>\n",
       "      <th>Escolaridade após 2005</th>\n",
       "      <th>Idade</th>\n",
       "      <th>Mês Admissão</th>\n",
       "      <th>Mês Desligamento</th>\n",
       "      <th>Motivo Desligamento</th>\n",
       "      <th>Município</th>\n",
       "      <th>Qtd Hora Contr</th>\n",
       "      <th>Raça Cor</th>\n",
       "      <th>Sexo Trabalhador</th>\n",
       "      <th>Tamanho Estabelecimento</th>\n",
       "      <th>Tempo Emprego</th>\n",
       "      <th>Tipo Defic</th>\n",
       "      <th>Vl Remun Média Nom</th>\n",
       "      <th>UF</th>\n",
       "      <th>CBO 2002</th>\n",
       "    </tr>\n",
       "  </thead>\n",
       "  <tbody>\n",
       "    <tr>\n",
       "      <th>4470590</th>\n",
       "      <td>8112500</td>\n",
       "      <td>1</td>\n",
       "      <td>23</td>\n",
       "      <td>0</td>\n",
       "      <td>3</td>\n",
       "      <td>12</td>\n",
       "      <td>420540</td>\n",
       "      <td>44</td>\n",
       "      <td>9</td>\n",
       "      <td>1</td>\n",
       "      <td>DE_10_A_19</td>\n",
       "      <td>2.9</td>\n",
       "      <td>0</td>\n",
       "      <td>1484.79</td>\n",
       "      <td>42</td>\n",
       "      <td>514320</td>\n",
       "    </tr>\n",
       "    <tr>\n",
       "      <th>4470599</th>\n",
       "      <td>7112000</td>\n",
       "      <td>1</td>\n",
       "      <td>33</td>\n",
       "      <td>3</td>\n",
       "      <td>4</td>\n",
       "      <td>11</td>\n",
       "      <td>420540</td>\n",
       "      <td>44</td>\n",
       "      <td>9</td>\n",
       "      <td>1</td>\n",
       "      <td>DE_5_A_9</td>\n",
       "      <td>1.9</td>\n",
       "      <td>0</td>\n",
       "      <td>1290.00</td>\n",
       "      <td>42</td>\n",
       "      <td>717020</td>\n",
       "    </tr>\n",
       "    <tr>\n",
       "      <th>4470606</th>\n",
       "      <td>5611201</td>\n",
       "      <td>1</td>\n",
       "      <td>36</td>\n",
       "      <td>2</td>\n",
       "      <td>3</td>\n",
       "      <td>12</td>\n",
       "      <td>420540</td>\n",
       "      <td>22</td>\n",
       "      <td>2</td>\n",
       "      <td>1</td>\n",
       "      <td>DE_20_A_49</td>\n",
       "      <td>1.3</td>\n",
       "      <td>0</td>\n",
       "      <td>951.63</td>\n",
       "      <td>42</td>\n",
       "      <td>513405</td>\n",
       "    </tr>\n",
       "    <tr>\n",
       "      <th>4470607</th>\n",
       "      <td>5611201</td>\n",
       "      <td>1</td>\n",
       "      <td>27</td>\n",
       "      <td>0</td>\n",
       "      <td>1</td>\n",
       "      <td>12</td>\n",
       "      <td>420540</td>\n",
       "      <td>9</td>\n",
       "      <td>2</td>\n",
       "      <td>1</td>\n",
       "      <td>DE_20_A_49</td>\n",
       "      <td>1.9</td>\n",
       "      <td>0</td>\n",
       "      <td>664.41</td>\n",
       "      <td>42</td>\n",
       "      <td>513405</td>\n",
       "    </tr>\n",
       "    <tr>\n",
       "      <th>4470608</th>\n",
       "      <td>4110700</td>\n",
       "      <td>1</td>\n",
       "      <td>29</td>\n",
       "      <td>0</td>\n",
       "      <td>3</td>\n",
       "      <td>11</td>\n",
       "      <td>420540</td>\n",
       "      <td>44</td>\n",
       "      <td>9</td>\n",
       "      <td>1</td>\n",
       "      <td>DE_5_A_9</td>\n",
       "      <td>38.7</td>\n",
       "      <td>0</td>\n",
       "      <td>1841.74</td>\n",
       "      <td>42</td>\n",
       "      <td>715210</td>\n",
       "    </tr>\n",
       "  </tbody>\n",
       "</table>\n",
       "</div>"
      ],
      "text/plain": [
       "        CNAE 2.0 Subclasse Escolaridade após 2005  Idade Mês Admissão  \\\n",
       "4470590            8112500                      1     23            0   \n",
       "4470599            7112000                      1     33            3   \n",
       "4470606            5611201                      1     36            2   \n",
       "4470607            5611201                      1     27            0   \n",
       "4470608            4110700                      1     29            0   \n",
       "\n",
       "        Mês Desligamento Motivo Desligamento Município  Qtd Hora Contr  \\\n",
       "4470590                3                  12    420540              44   \n",
       "4470599                4                  11    420540              44   \n",
       "4470606                3                  12    420540              22   \n",
       "4470607                1                  12    420540               9   \n",
       "4470608                3                  11    420540              44   \n",
       "\n",
       "        Raça Cor Sexo Trabalhador Tamanho Estabelecimento  Tempo Emprego  \\\n",
       "4470590        9                1              DE_10_A_19            2.9   \n",
       "4470599        9                1                DE_5_A_9            1.9   \n",
       "4470606        2                1              DE_20_A_49            1.3   \n",
       "4470607        2                1              DE_20_A_49            1.9   \n",
       "4470608        9                1                DE_5_A_9           38.7   \n",
       "\n",
       "        Tipo Defic  Vl Remun Média Nom  UF CBO 2002  \n",
       "4470590          0             1484.79  42   514320  \n",
       "4470599          0             1290.00  42   717020  \n",
       "4470606          0              951.63  42   513405  \n",
       "4470607          0              664.41  42   513405  \n",
       "4470608          0             1841.74  42   715210  "
      ]
     },
     "execution_count": 31,
     "metadata": {},
     "output_type": "execute_result"
    }
   ],
   "source": [
    "df.head()"
   ]
  },
  {
   "cell_type": "code",
   "execution_count": 34,
   "metadata": {},
   "outputs": [
    {
     "data": {
      "text/plain": [
       "CNAE 2.0 Subclasse        8121400.000\n",
       "Escolaridade após 2005          8.000\n",
       "Idade                          36.000\n",
       "Mês Admissão                    0.000\n",
       "Mês Desligamento                0.000\n",
       "Motivo Desligamento             0.000\n",
       "Município                  420540.000\n",
       "Qtd Hora Contr                 40.000\n",
       "Raça Cor                        8.000\n",
       "Sexo Trabalhador                2.000\n",
       "Tempo Emprego                  18.700\n",
       "Tipo Defic                      0.000\n",
       "Vl Remun Média Nom           2104.875\n",
       "UF                             42.000\n",
       "dtype: float64"
      ]
     },
     "execution_count": 34,
     "metadata": {},
     "output_type": "execute_result"
    }
   ],
   "source": [
    "df.median()"
   ]
  },
  {
   "cell_type": "code",
   "execution_count": null,
   "metadata": {},
   "outputs": [],
   "source": []
  },
  {
   "cell_type": "code",
   "execution_count": 102,
   "metadata": {},
   "outputs": [],
   "source": [
    "## Add Escolaridade, Cnae...\n",
    "\n",
    "\n",
    "def report_salary(df: pd.DataFrame, idade: int, cbo: str, raca: str, genero: str, threshold: int = 1) -> None:\n",
    "    df_filtered = df[\n",
    "        (df['Idade'] == idade) &\n",
    "        (df['CBO 2002'] == cbo) &\n",
    "        (df['Raça Cor'] == raca) &\n",
    "        (df['Sexo Trabalhador'] == genero)\n",
    "    ]\n",
    "    \n",
    "    row_count = df_filtered.shape[0]\n",
    "    print(f'[debug] Rows after filter: {row_count}')\n",
    "\n",
    "    # The filter returned few rows, so give it a second try!\n",
    "    if row_count < threshold:\n",
    "        print(f'[debug] The rows after filter are less than threshold!')\n",
    "        df_filtered = _similar_cbo(df, idade, cbo, raca, genero)\n",
    "        row_count = df_filtered.shape[0]\n",
    "        print(f'[debug] Rows after second try: {row_count}')\n",
    "    \n",
    "    _print_report(df_filtered, 'Vl Remun Média Nom')\n",
    "        \n",
    "    return None\n",
    "\n",
    "\n",
    "def _similar_cbo(df: pd.DataFrame, idade: int, cbo: str, raca: int, genero: int) -> pd.DataFrame:\n",
    "    \"\"\"Finds another CBO based on similarity.\n",
    "    \n",
    "    \"\"\"\n",
    "    # Filters without CBO\n",
    "    df_filtered_no_cbo = df[\n",
    "        (df['Idade'] == idade)\n",
    "        & (df['Raça Cor'] == raca)\n",
    "        & (df['Sexo Trabalhador'] == genero)\n",
    "    ]\n",
    "    \n",
    "    # Get all CBOs with the filter above\n",
    "    list_cbos = df_filtered_no_cbo['CBO 2002'].unique()\n",
    "    \n",
    "    # For all CBOs, find the most similar to original CBO\n",
    "    cbo = int(cbo)\n",
    "    closer_cbo = ''\n",
    "    closer_cbo_score = 9999999\n",
    "\n",
    "    for cbos in list_cbos:\n",
    "        try:\n",
    "            int_cbos = int(cbos)\n",
    "        except:\n",
    "            int_cbos = 9999999999\n",
    "        diff_cbos = np.abs(int_cbos - cbo)\n",
    "        if diff_cbos < closer_cbo_score:\n",
    "            closer_cbo = cbos\n",
    "            closer_cbo_score = diff_cbos\n",
    "            print(f'[debug] Closer CBO: {cbos}')\n",
    "            print(f'[debug] Closer CBO score: {closer_cbo_score}')\n",
    "\n",
    "    # Return the data with all filters including new similar CBO together\n",
    "    return df_filtered_no_cbo[df_filtered_no_cbo['CBO 2002'] == closer_cbo]\n",
    "\n",
    "\n",
    "def _print_report(df: pd.DataFrame, col_print: str) -> None:\n",
    "    print('\\n')\n",
    "    print('----- RESULTS -----')\n",
    "    print(f\"Median\\t {df[col_print].median()}\")\n",
    "    print(f\"Mean\\t {df[col_print].mean()}\")\n",
    "    \n",
    "    return None"
   ]
  },
  {
   "cell_type": "code",
   "execution_count": 82,
   "metadata": {},
   "outputs": [
    {
     "name": "stdout",
     "output_type": "stream",
     "text": [
      "[debug] Rows after filter: 0\n",
      "[debug] The rows after filter are less than threshold!\n",
      "[debug] Closer CBO: 724205\n",
      "[debug] Closer CBO score: 512000\n",
      "[debug] Closer CBO: 514325\n",
      "[debug] Closer CBO score: 302120\n",
      "[debug] Closer CBO: 513505\n",
      "[debug] Closer CBO score: 301300\n",
      "[debug] Closer CBO: 421125\n",
      "[debug] Closer CBO score: 208920\n",
      "[debug] Closer CBO: 414105\n",
      "[debug] Closer CBO score: 201900\n",
      "[debug] Closer CBO: 373205\n",
      "[debug] Closer CBO score: 161000\n",
      "[debug] Closer CBO: 141515\n",
      "[debug] Closer CBO score: 70690\n",
      "[debug] Closer CBO: 142320\n",
      "[debug] Closer CBO score: 69885\n",
      "[debug] Closer CBO: 233215\n",
      "[debug] Closer CBO score: 21010\n",
      "[debug] Closer CBO: 212315\n",
      "[debug] Closer CBO score: 110\n",
      "[debug] Closer CBO: 212310\n",
      "[debug] Closer CBO score: 105\n",
      "[debug] Closer CBO: 212305\n",
      "[debug] Closer CBO score: 100\n",
      "[debug] Rows after second try: 1\n",
      "\n",
      "\n",
      "----- RESULTS -----\n",
      "Median\t 4221.32\n",
      "Mean\t 4221.32\n"
     ]
    }
   ],
   "source": [
    "report_salary(df, 23, '212205', '2', '1') # 212205"
   ]
  },
  {
   "cell_type": "code",
   "execution_count": 103,
   "metadata": {},
   "outputs": [
    {
     "name": "stdout",
     "output_type": "stream",
     "text": [
      "[debug] Rows after filter: 0\n",
      "[debug] The rows after filter are less than threshold!\n",
      "[debug] Closer CBO: 771105\n",
      "[debug] Closer CBO score: 559900\n",
      "[debug] Closer CBO: 513205\n",
      "[debug] Closer CBO score: 302000\n",
      "[debug] Closer CBO: 510310\n",
      "[debug] Closer CBO score: 299105\n",
      "[debug] Closer CBO: 341225\n",
      "[debug] Closer CBO score: 130020\n",
      "[debug] Closer CBO: 331110\n",
      "[debug] Closer CBO score: 119905\n",
      "[debug] Closer CBO: 317210\n",
      "[debug] Closer CBO score: 106005\n",
      "[debug] Closer CBO: 141510\n",
      "[debug] Closer CBO score: 69695\n",
      "[debug] Closer CBO: 261715\n",
      "[debug] Closer CBO score: 50510\n",
      "[debug] Closer CBO: 224120\n",
      "[debug] Closer CBO score: 12915\n",
      "[debug] Closer CBO: 212405\n",
      "[debug] Closer CBO score: 1200\n",
      "[debug] Closer CBO: 212215\n",
      "[debug] Closer CBO score: 1010\n",
      "[debug] Closer CBO: 211105\n",
      "[debug] Closer CBO score: 100\n",
      "[debug] Closer CBO: 211110\n",
      "[debug] Closer CBO score: 95\n",
      "[debug] Rows after second try: 2\n",
      "\n",
      "\n",
      "----- RESULTS -----\n",
      "Median\t 12187.115\n",
      "Mean\t 12187.115\n"
     ]
    }
   ],
   "source": [
    "report_salary(df, 40, '211205', '2', '1') # 212205"
   ]
  },
  {
   "cell_type": "markdown",
   "metadata": {},
   "source": [
    "# Ideias\n",
    "\n",
    "- Fazer media entre os 3 CBOS mais similares\n",
    "- Mostrar gráfico de tendencia de salario mediano para idades superiores (+1, +2, +3, ... +10 anos da idade passada)"
   ]
  },
  {
   "cell_type": "markdown",
   "metadata": {},
   "source": [
    "# The End"
   ]
  }
 ],
 "metadata": {
  "kernelspec": {
   "display_name": "Python 3",
   "language": "python",
   "name": "python3"
  },
  "language_info": {
   "codemirror_mode": {
    "name": "ipython",
    "version": 3
   },
   "file_extension": ".py",
   "mimetype": "text/x-python",
   "name": "python",
   "nbconvert_exporter": "python",
   "pygments_lexer": "ipython3",
   "version": "3.6.8"
  },
  "toc-autonumbering": true,
  "toc-showcode": true,
  "toc-showmarkdowntxt": true
 },
 "nbformat": 4,
 "nbformat_minor": 4
}
